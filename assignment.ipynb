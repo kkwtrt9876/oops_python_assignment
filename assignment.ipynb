{
 "cells": [
  {
   "cell_type": "markdown",
   "metadata": {},
   "source": [
    "1. What are the five key concepts of Object-Oriented Programming (OOP)?"
   ]
  },
  {
   "cell_type": "markdown",
   "metadata": {},
   "source": [
    "polymorphism :- poly means many and morphism means forms. this involves method overloading in python. a function take many forms to executes \n",
    " \n",
    "encapsulation :- it means protecting the data, restricting its access to different users. it has public , private and protected access modifiers. in public the data can be accessed inside and outside the class. in private the data can be accessed from with in the class only. in protected the data can be accessed inside the class and its sub class.  \n",
    "\n",
    "absraction  :- abstraction means hiding the code and showing only necessory part to the user. it simplifies the complex systems.  \n",
    "\n",
    "inheritance  :- when a new class inherits the property of parent class. just like the child inheriting the property of the parent. single , multiple , multi level , hybrid , heirarichal are the types of inheritance\n",
    "\n",
    "class and objects :- class is the structure , skeleton and blueprint that define the properties of an object. object is the instance of the class.\n"
   ]
  },
  {
   "cell_type": "markdown",
   "metadata": {},
   "source": [
    "2. Write a Python class for a `Car` with attributes for `make`, `model`, and `year`. Include a method to display\n",
    "the car's information."
   ]
  },
  {
   "cell_type": "code",
   "execution_count": 1,
   "metadata": {},
   "outputs": [],
   "source": [
    "class car:\n",
    "    def __init__(self,make,model,year) -> None:\n",
    "        self.make  = make\n",
    "        self.model = model\n",
    "        self.year = year\n",
    "        \n",
    "    def display(self):\n",
    "        print(f\"make :- {self.make}\\nmodel :- {self.model}\\nyear :- {self.year}\")"
   ]
  },
  {
   "cell_type": "code",
   "execution_count": 3,
   "metadata": {},
   "outputs": [
    {
     "name": "stdout",
     "output_type": "stream",
     "text": [
      "make :- toyata\n",
      "model :- camery\n",
      "year :- 2021\n"
     ]
    }
   ],
   "source": [
    "c1 = car('toyata','camery',2021)\n",
    "c1.display()"
   ]
  },
  {
   "cell_type": "markdown",
   "metadata": {},
   "source": [
    "3. Explain the difference between instance methods and class methods. Provide an example of each."
   ]
  },
  {
   "cell_type": "markdown",
   "metadata": {},
   "source": [
    "instance methods are bound to the object of the class  \n",
    "class methods are bound to the class, they are not bound to the object "
   ]
  },
  {
   "cell_type": "code",
   "execution_count": 4,
   "metadata": {},
   "outputs": [],
   "source": [
    "# example of class methods\n",
    "\n",
    "class class_method:\n",
    "    counter = 0\n",
    "    def __init__(self) -> None:\n",
    "        class_method.counter = class_method.counter + 1\n",
    "        \n",
    "    @classmethod\n",
    "    def get_counter(cls):\n",
    "        return f\"the counter of the class is {cls.counter}\"\n",
    "        "
   ]
  },
  {
   "cell_type": "code",
   "execution_count": 6,
   "metadata": {},
   "outputs": [],
   "source": [
    "c1 = class_method()"
   ]
  },
  {
   "cell_type": "code",
   "execution_count": 7,
   "metadata": {},
   "outputs": [],
   "source": [
    "c2 = class_method()"
   ]
  },
  {
   "cell_type": "code",
   "execution_count": 8,
   "metadata": {},
   "outputs": [
    {
     "name": "stdout",
     "output_type": "stream",
     "text": [
      "the counter of the class is 2\n"
     ]
    }
   ],
   "source": [
    "print(class_method.get_counter())"
   ]
  },
  {
   "cell_type": "code",
   "execution_count": 9,
   "metadata": {},
   "outputs": [
    {
     "name": "stdout",
     "output_type": "stream",
     "text": [
      "make :- toyata\n",
      "model :- camery\n",
      "year :- 2021\n"
     ]
    }
   ],
   "source": [
    "# example of isntance method :-\n",
    "class car:\n",
    "    def __init__(self,make,model,year) -> None:\n",
    "        self.make  = make\n",
    "        self.model = model\n",
    "        self.year = year\n",
    "        \n",
    "    def display(self):\n",
    "        print(f\"make :- {self.make}\\nmodel :- {self.model}\\nyear :- {self.year}\")\n",
    "        \n",
    "   \n",
    "#display is an instance method     \n",
    "c1 = car('toyata','camery',2021)\n",
    "c1.display()\n"
   ]
  },
  {
   "cell_type": "markdown",
   "metadata": {},
   "source": [
    "4. How does Python implement method overloading? Give an example."
   ]
  },
  {
   "cell_type": "code",
   "execution_count": 7,
   "metadata": {},
   "outputs": [],
   "source": [
    "# python doesnt implement method over loading in the true sense\n",
    "\n",
    "class overload:\n",
    "    def __init__(self) -> None:\n",
    "        pass\n",
    "        \n",
    "    \n",
    "    def intro(self,name):\n",
    "        print(f\"i {name}\")\n",
    "        \n",
    "    def intro(self,name,city,school =''):\n",
    "        print(f\"i {name} {city} {school}\")\n",
    "        \n",
    "    def intro(self,name,school,city=''):\n",
    "        print(f\"i {name} {city} {school}\")\n",
    "        \n",
    "    def intro(self,name,school='',city=''):\n",
    "        print(f\"i {name} {city} {school}\")\n",
    "        \n",
    "    \n",
    "        \n",
    "    \n",
    "        "
   ]
  },
  {
   "cell_type": "code",
   "execution_count": 8,
   "metadata": {},
   "outputs": [
    {
     "name": "stdout",
     "output_type": "stream",
     "text": [
      "i asif  \n"
     ]
    }
   ],
   "source": [
    "c1 = overload()\n",
    "c1.intro('asif')"
   ]
  },
  {
   "cell_type": "code",
   "execution_count": 10,
   "metadata": {},
   "outputs": [
    {
     "name": "stdout",
     "output_type": "stream",
     "text": [
      "i asif,pwskills  \n"
     ]
    }
   ],
   "source": [
    "c1.intro('asif,pwskills')"
   ]
  },
  {
   "cell_type": "code",
   "execution_count": 11,
   "metadata": {},
   "outputs": [
    {
     "name": "stdout",
     "output_type": "stream",
     "text": [
      "i asif india pwskills\n"
     ]
    }
   ],
   "source": [
    "c1.intro('asif','pwskills','india')"
   ]
  },
  {
   "cell_type": "markdown",
   "metadata": {},
   "source": [
    "5. What are the three types of access modifiers in Python? How are they denoted?"
   ]
  },
  {
   "cell_type": "markdown",
   "metadata": {},
   "source": [
    "private => self.__nameofvariable  \n",
    "public => self.nameofvariable  \n",
    "protected => self._nameofvariable  "
   ]
  },
  {
   "cell_type": "markdown",
   "metadata": {},
   "source": [
    "6. Describe the five types of inheritance in Python. Provide a simple example of multiple inheritance"
   ]
  },
  {
   "cell_type": "markdown",
   "metadata": {},
   "source": [
    "there are 5 types of inheritances  \n",
    "1. single inheritance  \n",
    "2. multilevel inheritance  \n",
    "3. multiple inheritance  \n",
    "4. heiririchal inheritance  \n",
    "5. hybrid inheritance"
   ]
  },
  {
   "cell_type": "code",
   "execution_count": 2,
   "metadata": {},
   "outputs": [],
   "source": [
    "#example of multiple inheritance \n",
    "class father:\n",
    "    def __init__(self) -> None:\n",
    "        pass\n",
    "    \n",
    "    def get_property(self):\n",
    "        print(\"he gets the father property\")\n",
    "        \n",
    "        \n",
    "class mother:\n",
    "    def __init__(self) -> None:\n",
    "        pass\n",
    "    \n",
    "    def get_property(self):\n",
    "        print(\"he gets the mother property\")\n",
    "        \n",
    "        \n",
    "class child(father,mother):\n",
    "    def __init__(self) -> None:\n",
    "        super().__init__()\n",
    "    \n",
    "    \n",
    "        \n",
    "        \n",
    "\n",
    "        "
   ]
  },
  {
   "cell_type": "code",
   "execution_count": 4,
   "metadata": {},
   "outputs": [
    {
     "name": "stdout",
     "output_type": "stream",
     "text": [
      "he gets the father property\n"
     ]
    }
   ],
   "source": [
    "c1 = child()\n",
    "c1.get_property()\n"
   ]
  },
  {
   "cell_type": "markdown",
   "metadata": {},
   "source": [
    "7. What is the Method Resolution Order (MRO) in Python? How can you retrieve it programmatically?"
   ]
  },
  {
   "cell_type": "markdown",
   "metadata": {},
   "source": [
    "diamond problem occurs when a child inherits from two parents. they have the same method. now there is ambiguity present of which method the child will execute. python resolves this problem through method resoloution order called c3 linearization. in this method the class that is inherited first , its method will be executed not the others.  \n",
    "example is below"
   ]
  },
  {
   "cell_type": "code",
   "execution_count": 6,
   "metadata": {},
   "outputs": [
    {
     "name": "stdout",
     "output_type": "stream",
     "text": [
      "he gets the mother property\n"
     ]
    }
   ],
   "source": [
    "#example of multiple inheritance \n",
    "class father:\n",
    "    def __init__(self) -> None:\n",
    "        pass\n",
    "    \n",
    "    def get_property(self):\n",
    "        print(\"he gets the father property\")\n",
    "        \n",
    "        \n",
    "class mother:\n",
    "    def __init__(self) -> None:\n",
    "        pass\n",
    "    \n",
    "    def get_property(self):\n",
    "        print(\"he gets the mother property\")\n",
    "        \n",
    "        \n",
    "class child(mother,father):\n",
    "    def __init__(self) -> None:\n",
    "        super().__init__()\n",
    "        \n",
    "\n",
    "c1 = child()\n",
    "c1.get_property()\n",
    "    \n",
    "\n",
    "#in this the child inherits the mother first hence the method of the mother class is being executed. this is done through pyhtons \n",
    "# mro called c3 linearization\n",
    "        \n",
    "        \n",
    "\n",
    "        "
   ]
  },
  {
   "cell_type": "markdown",
   "metadata": {},
   "source": [
    "8. Create an abstract base class `Shape` with an abstract method `area()`. Then create two subclasses\n",
    "`Circle` and `Rectangle` that implement the `area()` method."
   ]
  },
  {
   "cell_type": "code",
   "execution_count": 7,
   "metadata": {},
   "outputs": [],
   "source": [
    "import abc\n",
    "class main:\n",
    "    @abc.abstractmethod\n",
    "    def area(self,l1,l2,check):\n",
    "        if check==0:\n",
    "            return l1*l2\n",
    "        elif check==1:\n",
    "            return 3.142 * (l1**2) \n",
    "    \n",
    "class rectangle(main):\n",
    "    def __init__(self,l,w) -> None:\n",
    "        super().__init__()\n",
    "        self.l = l\n",
    "        self.w = w\n",
    "        \n",
    "    def area(self):\n",
    "        return super().area(self.l,self.w,check=0)\n",
    "    \n",
    "class circle(main):\n",
    "    def __init__(self,r) -> None:\n",
    "        super().__init__()\n",
    "        self.r = r\n",
    "        \n",
    "    def area(self):\n",
    "        return super().area(self.r,0,check=1)\n",
    "        \n",
    "        "
   ]
  },
  {
   "cell_type": "code",
   "execution_count": 8,
   "metadata": {},
   "outputs": [
    {
     "data": {
      "text/plain": [
       "6"
      ]
     },
     "execution_count": 8,
     "metadata": {},
     "output_type": "execute_result"
    }
   ],
   "source": [
    "r1  =rectangle(2,3)\n",
    "r1.area()"
   ]
  },
  {
   "cell_type": "code",
   "execution_count": 9,
   "metadata": {},
   "outputs": [
    {
     "data": {
      "text/plain": [
       "28.278"
      ]
     },
     "execution_count": 9,
     "metadata": {},
     "output_type": "execute_result"
    }
   ],
   "source": [
    "c1 = circle(3)\n",
    "c1.area()"
   ]
  },
  {
   "cell_type": "markdown",
   "metadata": {},
   "source": [
    "9. Demonstrate polymorphism by creating a function that can work with different shape objects to calculate\n",
    "and print their areas."
   ]
  },
  {
   "cell_type": "code",
   "execution_count": 16,
   "metadata": {},
   "outputs": [],
   "source": [
    "class area:\n",
    "    def calculate_area(self):\n",
    "        pass\n",
    "    \n",
    "class circle(area):\n",
    "    def __init__(self,r) -> None:\n",
    "        super().__init__()\n",
    "        self.r = r\n",
    "        \n",
    "    def calculate_area(self):\n",
    "        return f\"the area of circle is {3.142 * self.r**2}\"\n",
    "    \n",
    "class square(area):\n",
    "    def __init__(self,l) -> None:\n",
    "        super().__init__()\n",
    "        self.l = l\n",
    "        \n",
    "    def calculate_area(self):\n",
    "        return f\"the area of square is {self.l *self.l }\"\n",
    "    \n",
    "class rectangle(area):\n",
    "    def __init__(self,l,w) -> None:\n",
    "        super().__init__()\n",
    "        self.l = l\n",
    "        self.w = w\n",
    "        \n",
    "    def calculate_area(self):\n",
    "        return f\"the area of rectangle is {self.l *self.w}\"\n",
    "    \n",
    "    \n",
    "class triangle(area):\n",
    "    def __init__(self,l,h) -> None:\n",
    "        super().__init__()\n",
    "        self.l = l\n",
    "        self.h = h\n",
    "        \n",
    "    def calculate_area(self):\n",
    "        return f\"the area of triangle is {0.5 * (self.l *self.h)}\"\n",
    "\n",
    "    \n",
    "    "
   ]
  },
  {
   "cell_type": "code",
   "execution_count": 17,
   "metadata": {},
   "outputs": [],
   "source": [
    "r1 = rectangle(3,4)\n",
    "s1 = square(3)\n",
    "c1 = circle(4)\n",
    "t1 = triangle(3,4)"
   ]
  },
  {
   "cell_type": "code",
   "execution_count": 18,
   "metadata": {},
   "outputs": [
    {
     "name": "stdout",
     "output_type": "stream",
     "text": [
      "the area of rectangle is 12\n",
      "the area of square is 9\n",
      "the area of circle is 50.272\n",
      "the area of triangle is 6.0\n"
     ]
    }
   ],
   "source": [
    "l = [r1,s1,c1,t1]\n",
    "\n",
    "for i in l:\n",
    "    print(i.calculate_area())"
   ]
  },
  {
   "cell_type": "markdown",
   "metadata": {},
   "source": [
    "10. Implement encapsulation in a `BankAccount` class with private attributes for `balance` and\n",
    "`account_number`. Include methods for deposit, withdrawal, and balance inquiry."
   ]
  },
  {
   "cell_type": "code",
   "execution_count": 26,
   "metadata": {},
   "outputs": [],
   "source": [
    "class bankaccount:\n",
    "    def __init__(self,balance,account_number) -> None:\n",
    "        self.__balance = balance\n",
    "        self.__account_number = account_number\n",
    "        \n",
    "    def deposit(self,amount):\n",
    "        if amount < 0:\n",
    "            print(\"unable to deposit the amount ! ERROR\")\n",
    "        else:\n",
    "            self.__balance += amount\n",
    "            print(f\"{amount} of deposit successful ! \\nyour new balance is {self.__balance}\")\n",
    "            \n",
    "    def withdrawl(self,amount):\n",
    "        if amount > self.__balance:\n",
    "            print(\"Not much Funds Present! Error\")\n",
    "        else:\n",
    "            self.__balance -=amount\n",
    "            print(f\"{amount} of withdrawl successful !\\nnew balance is {self.__balance}\")\n",
    "            \n",
    "    def balance_inquery(self):\n",
    "        print(f\"your balance is {self.__balance}\")\n",
    "        "
   ]
  },
  {
   "cell_type": "code",
   "execution_count": 28,
   "metadata": {},
   "outputs": [],
   "source": [
    "hammad = bankaccount(1000,1)"
   ]
  },
  {
   "cell_type": "code",
   "execution_count": 29,
   "metadata": {},
   "outputs": [
    {
     "name": "stdout",
     "output_type": "stream",
     "text": [
      "your balance is 1000\n"
     ]
    }
   ],
   "source": [
    "hammad.balance_inquery()"
   ]
  },
  {
   "cell_type": "code",
   "execution_count": 30,
   "metadata": {},
   "outputs": [
    {
     "name": "stdout",
     "output_type": "stream",
     "text": [
      "unable to deposit the amount ! ERROR\n"
     ]
    }
   ],
   "source": [
    "hammad.deposit(-1)"
   ]
  },
  {
   "cell_type": "code",
   "execution_count": 31,
   "metadata": {},
   "outputs": [
    {
     "name": "stdout",
     "output_type": "stream",
     "text": [
      "1000 of deposit successful ! \n",
      "your new balance is 2000\n"
     ]
    }
   ],
   "source": [
    "hammad.deposit(1000)"
   ]
  },
  {
   "cell_type": "code",
   "execution_count": 32,
   "metadata": {},
   "outputs": [
    {
     "name": "stdout",
     "output_type": "stream",
     "text": [
      "Not much Funds Present! Error\n"
     ]
    }
   ],
   "source": [
    "hammad.withdrawl(10000)"
   ]
  },
  {
   "cell_type": "code",
   "execution_count": 33,
   "metadata": {},
   "outputs": [
    {
     "name": "stdout",
     "output_type": "stream",
     "text": [
      "500 of withdrawl successful !\n",
      "new balance is 1500\n"
     ]
    }
   ],
   "source": [
    "hammad.withdrawl(500)"
   ]
  },
  {
   "cell_type": "markdown",
   "metadata": {},
   "source": [
    "11. Write a class that overrides the `__str__` and `__add__` magic methods. What will these methods allow\n",
    "you to do?"
   ]
  },
  {
   "cell_type": "markdown",
   "metadata": {},
   "source": [
    "the `__str__` method will allow us to overload the print statement  \n",
    "the `__add__` method will allow us to add two classes using the plus operator"
   ]
  },
  {
   "cell_type": "code",
   "execution_count": 34,
   "metadata": {},
   "outputs": [],
   "source": [
    "class person:\n",
    "    def __init__(self,name,city) -> None:\n",
    "        self.name = name\n",
    "        self.city = city\n",
    "        \n",
    "    def __str__(self) -> str:\n",
    "        return f\"{self.name} from {self.city}\""
   ]
  },
  {
   "cell_type": "code",
   "execution_count": 35,
   "metadata": {},
   "outputs": [
    {
     "name": "stdout",
     "output_type": "stream",
     "text": [
      "hammad from islamabad\n"
     ]
    }
   ],
   "source": [
    "h1 = person('hammad','islamabad')\n",
    "print(h1)"
   ]
  },
  {
   "cell_type": "code",
   "execution_count": 39,
   "metadata": {},
   "outputs": [],
   "source": [
    "class value1:\n",
    "    def __init__(self,l,w) -> None:\n",
    "        self.l = l\n",
    "        self.w = w\n",
    "        \n",
    "        \n",
    "    def __add__(self,other):\n",
    "        return value1(self.l+other.l,self.w + other.w)\n",
    "    \n",
    "    def __str__(self) -> str:\n",
    "        return f\"{self.l} {self.w}\"\n",
    "        "
   ]
  },
  {
   "cell_type": "code",
   "execution_count": 40,
   "metadata": {},
   "outputs": [],
   "source": [
    "c1 = value1(1,2)\n",
    "c2 = value1(2,2)\n",
    "c3 = c1 + c2"
   ]
  },
  {
   "cell_type": "code",
   "execution_count": 41,
   "metadata": {},
   "outputs": [
    {
     "name": "stdout",
     "output_type": "stream",
     "text": [
      "3 4\n"
     ]
    }
   ],
   "source": [
    "print(c3)"
   ]
  },
  {
   "cell_type": "markdown",
   "metadata": {},
   "source": [
    "12. Create a decorator that measures and prints the execution time of a function."
   ]
  },
  {
   "cell_type": "code",
   "execution_count": 42,
   "metadata": {},
   "outputs": [],
   "source": [
    "import time\n",
    "\n",
    "def execution_time(func):\n",
    "    def wrapper():\n",
    "        start = time.perf_counter()\n",
    "        func()\n",
    "        end = time.perf_counter()\n",
    "        print(f\"the execution time is {end - start}\")\n",
    "        \n",
    "    return wrapper\n",
    "\n",
    "    "
   ]
  },
  {
   "cell_type": "code",
   "execution_count": 43,
   "metadata": {},
   "outputs": [],
   "source": [
    "@execution_time\n",
    "def check():\n",
    "    check = 0\n",
    "    for i in range(1000):\n",
    "        check+=i**2\n",
    "        \n",
    "    print(check)\n",
    "        "
   ]
  },
  {
   "cell_type": "code",
   "execution_count": 44,
   "metadata": {},
   "outputs": [
    {
     "name": "stdout",
     "output_type": "stream",
     "text": [
      "332833500\n",
      "the execution time is 0.0003051980002055643\n"
     ]
    }
   ],
   "source": [
    "check()"
   ]
  },
  {
   "cell_type": "markdown",
   "metadata": {},
   "source": [
    "13. Explain the concept of the Diamond Problem in multiple inheritance. How does Python resolve it?"
   ]
  },
  {
   "cell_type": "markdown",
   "metadata": {},
   "source": [
    "diamond problem occurs when a child inherits from more than two parents and they have the same method. the child will be confused to execute which method , the method from parent1 or parent2. to solve this problem python uses the method resoloution order (mro) using c3 linearization. in this the parent that is inherited first, only his method will be executed. here is an example below:-"
   ]
  },
  {
   "cell_type": "code",
   "execution_count": 46,
   "metadata": {},
   "outputs": [
    {
     "name": "stdout",
     "output_type": "stream",
     "text": [
      "he gets the father property\n"
     ]
    }
   ],
   "source": [
    "#example of multiple inheritance \n",
    "class father:\n",
    "    def __init__(self) -> None:\n",
    "        pass\n",
    "    \n",
    "    def get_property(self):\n",
    "        print(\"he gets the father property\")\n",
    "        \n",
    "        \n",
    "class mother:\n",
    "    def __init__(self) -> None:\n",
    "        pass\n",
    "    \n",
    "    def get_property(self):\n",
    "        print(\"he gets the mother property\")\n",
    "        \n",
    "        \n",
    "class child(father,mother):\n",
    "    def __init__(self) -> None:\n",
    "        super().__init__()\n",
    "    \n",
    "    \n",
    "        \n",
    "c1 = child()\n",
    "c1.get_property()\n",
    "#father is inherited first thats why"
   ]
  },
  {
   "cell_type": "markdown",
   "metadata": {},
   "source": [
    "14. Write a class method that keeps track of the number of instances created from a class."
   ]
  },
  {
   "cell_type": "code",
   "execution_count": 48,
   "metadata": {},
   "outputs": [],
   "source": [
    "class test:\n",
    "    instances = 0\n",
    "    def __init__(self) -> None:\n",
    "        test.instances += 1\n",
    "        \n",
    "    @classmethod\n",
    "    def get_instances(self):\n",
    "        print(test.instances)\n",
    "        "
   ]
  },
  {
   "cell_type": "code",
   "execution_count": 49,
   "metadata": {},
   "outputs": [],
   "source": [
    "c1 = test()\n",
    "c2 = test()\n",
    "c3 = test()"
   ]
  },
  {
   "cell_type": "code",
   "execution_count": 50,
   "metadata": {},
   "outputs": [
    {
     "name": "stdout",
     "output_type": "stream",
     "text": [
      "3\n"
     ]
    }
   ],
   "source": [
    "test.get_instances()"
   ]
  },
  {
   "cell_type": "markdown",
   "metadata": {},
   "source": [
    "15. Implement a static method in a class that checks if a given year is a leap year."
   ]
  },
  {
   "cell_type": "code",
   "execution_count": 51,
   "metadata": {},
   "outputs": [],
   "source": [
    "class leap:\n",
    "    @staticmethod\n",
    "    def check_leap(year):\n",
    "        if (year % 4 == 0 and year % 100 != 0) or (year % 400 == 0):\n",
    "            return True\n",
    "        else:\n",
    "            return False\n",
    "    "
   ]
  },
  {
   "cell_type": "code",
   "execution_count": 53,
   "metadata": {},
   "outputs": [
    {
     "data": {
      "text/plain": [
       "True"
      ]
     },
     "execution_count": 53,
     "metadata": {},
     "output_type": "execute_result"
    }
   ],
   "source": [
    "leap.check_leap(2000)"
   ]
  },
  {
   "cell_type": "code",
   "execution_count": 55,
   "metadata": {},
   "outputs": [
    {
     "data": {
      "text/plain": [
       "False"
      ]
     },
     "execution_count": 55,
     "metadata": {},
     "output_type": "execute_result"
    }
   ],
   "source": [
    "leap.check_leap(2023)"
   ]
  },
  {
   "cell_type": "code",
   "execution_count": null,
   "metadata": {},
   "outputs": [],
   "source": []
  }
 ],
 "metadata": {
  "kernelspec": {
   "display_name": "Python 3",
   "language": "python",
   "name": "python3"
  },
  "language_info": {
   "codemirror_mode": {
    "name": "ipython",
    "version": 3
   },
   "file_extension": ".py",
   "mimetype": "text/x-python",
   "name": "python",
   "nbconvert_exporter": "python",
   "pygments_lexer": "ipython3",
   "version": "3.12.3"
  }
 },
 "nbformat": 4,
 "nbformat_minor": 2
}
